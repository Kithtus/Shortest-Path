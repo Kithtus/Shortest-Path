{
 "cells": [
  {
   "cell_type": "code",
   "execution_count": 1,
   "metadata": {},
   "outputs": [],
   "source": [
    "import os\n",
    "import re\n",
    "import numpy as np"
   ]
  },
  {
   "cell_type": "markdown",
   "metadata": {},
   "source": [
    "## Creation of the graph"
   ]
  },
  {
   "cell_type": "markdown",
   "metadata": {},
   "source": [
    "### Creation of the arcs"
   ]
  },
  {
   "cell_type": "code",
   "execution_count": 2,
   "metadata": {},
   "outputs": [],
   "source": [
    "lines = []\n",
    "txt = open(\"rcsp1.txt\",\"r\")\n",
    "line = txt.readline() \n",
    "while (line != \"\"):\n",
    "    lines.append(line)\n",
    "    line = txt.readline()\n"
   ]
  },
  {
   "cell_type": "code",
   "execution_count": 17,
   "metadata": {},
   "outputs": [],
   "source": [
    "arcs = []\n",
    "for line in lines:\n",
    "    try:\n",
    "        if (line != lines[0]):\n",
    "            arc = {}\n",
    "            ligne = re.split(\" \",line)\n",
    "            arc[\"start\"] = int(ligne[1])\n",
    "            arc[\"end\"] = int(ligne[2])\n",
    "            arc[\"cost\"] = int(ligne[3])\n",
    "            arc[\"resource\"] = int(ligne[4])\n",
    "            arcs.append(arc)\n",
    "    except:\n",
    "        pass"
   ]
  },
  {
   "cell_type": "code",
   "execution_count": 28,
   "metadata": {},
   "outputs": [],
   "source": [
    "ligne0 = re.split(\" \",lines[0])"
   ]
  },
  {
   "cell_type": "code",
   "execution_count": 35,
   "metadata": {},
   "outputs": [],
   "source": [
    "indexResource = int(ligne0[3])\n",
    "resourceMax = int(re.split(\" \",lines[indexResource+1])[1])"
   ]
  },
  {
   "cell_type": "code",
   "execution_count": 36,
   "metadata": {},
   "outputs": [
    {
     "data": {
      "text/plain": [
       "73"
      ]
     },
     "execution_count": 36,
     "metadata": {},
     "output_type": "execute_result"
    }
   ],
   "source": []
  },
  {
   "cell_type": "markdown",
   "metadata": {},
   "source": [
    "### Creation of the graph with a list, in which each element is a vertex"
   ]
  },
  {
   "cell_type": "code",
   "execution_count": 4,
   "metadata": {},
   "outputs": [],
   "source": [
    "vertexNumber = re.split(\" \",lines[0])[1]\n",
    "vertices = [0] * int(vertexNumber)\n",
    "for vertex in range(1, int(vertexNumber)+1):\n",
    "    vertices[vertex-1] = vertex"
   ]
  },
  {
   "cell_type": "markdown",
   "metadata": {},
   "source": [
    "## Bellman-Ford Algorithm"
   ]
  },
  {
   "cell_type": "code",
   "execution_count": 5,
   "metadata": {},
   "outputs": [],
   "source": [
    "def BellmanFord(graph, arcs, start):\n",
    "    \"\"\"_summary_\n",
    "    The function BellmanFord implements the Bellman-Ford's algorithm.\n",
    "    Args:\n",
    "        graph (liste of int): each int represents a vertex\n",
    "        arcs (list of dict): each dict represents an arc. The format of arc is {\"start\": int s, \"end\": int e, \"cost\": int c} where s and e are vertices\n",
    "        and c is the weight of the arc\n",
    "        start (int): start is the vertex from which we want to determine the shortest path to every vertex\n",
    "\n",
    "    Returns:\n",
    "        distances: a dict of cost. distances[u] is the cost of the shortest path from strat to u\n",
    "        pred: a dict of vertex. One has to follow the successives vertex starting with pred[u] then pred[pred[u]] etc.. to get the shortest path\n",
    "        from strat to u\n",
    "    \"\"\"\n",
    "    numberVertex = len(graph)\n",
    "    distances = {}\n",
    "    pred = {}\n",
    "    ##We define the distances to infinity for strating and predecent vertex to None\n",
    "    for vertex in graph:\n",
    "        distances[vertex] = np.inf\n",
    "        pred[vertex] = None\n",
    "    distances[start] = 0\n",
    "    ##We increase the range of our search and we update the distances and the predecent vertex\n",
    "    for k in range(numberVertex):\n",
    "        for arc in arcs:\n",
    "            u = arc[\"start\"]\n",
    "            v = arc[\"end\"]\n",
    "            cost = arc[\"cost\"]\n",
    "            if (distances[v] > distances[u] + cost):\n",
    "                distances[v] = distances[u] + cost\n",
    "                pred[v] = u\n",
    "    return [distances, pred]"
   ]
  },
  {
   "cell_type": "code",
   "execution_count": 71,
   "metadata": {},
   "outputs": [],
   "source": [
    "d , predecent = BellmanFord(graph = vertices,\n",
    "            arcs = arcs,\n",
    "            start=1)"
   ]
  },
  {
   "cell_type": "code",
   "execution_count": 96,
   "metadata": {},
   "outputs": [
    {
     "name": "stdout",
     "output_type": "stream",
     "text": [
      "None\n"
     ]
    },
    {
     "ename": "KeyError",
     "evalue": "None",
     "output_type": "error",
     "traceback": [
      "\u001b[1;31m---------------------------------------------------------------------------\u001b[0m",
      "\u001b[1;31mKeyError\u001b[0m                                  Traceback (most recent call last)",
      "\u001b[1;32m~\\AppData\\Local\\Temp/ipykernel_10504/208478702.py\u001b[0m in \u001b[0;36m<module>\u001b[1;34m\u001b[0m\n\u001b[0;32m      5\u001b[0m     \u001b[0mprint\u001b[0m\u001b[1;33m(\u001b[0m\u001b[0melem\u001b[0m\u001b[1;33m)\u001b[0m\u001b[1;33m\u001b[0m\u001b[1;33m\u001b[0m\u001b[0m\n\u001b[0;32m      6\u001b[0m     \u001b[0mreverse\u001b[0m\u001b[1;33m.\u001b[0m\u001b[0mappend\u001b[0m\u001b[1;33m(\u001b[0m\u001b[0melem\u001b[0m\u001b[1;33m)\u001b[0m\u001b[1;33m\u001b[0m\u001b[1;33m\u001b[0m\u001b[0m\n\u001b[1;32m----> 7\u001b[1;33m     \u001b[0melem\u001b[0m \u001b[1;33m=\u001b[0m \u001b[0mpredecent\u001b[0m\u001b[1;33m[\u001b[0m\u001b[0melem\u001b[0m\u001b[1;33m]\u001b[0m\u001b[1;33m\u001b[0m\u001b[1;33m\u001b[0m\u001b[0m\n\u001b[0m\u001b[0;32m      8\u001b[0m \u001b[1;32mfor\u001b[0m \u001b[0mi\u001b[0m \u001b[1;32min\u001b[0m \u001b[0mrange\u001b[0m\u001b[1;33m(\u001b[0m\u001b[0mlen\u001b[0m\u001b[1;33m(\u001b[0m\u001b[0mreverse\u001b[0m\u001b[1;33m)\u001b[0m\u001b[1;33m)\u001b[0m\u001b[1;33m:\u001b[0m\u001b[1;33m\u001b[0m\u001b[1;33m\u001b[0m\u001b[0m\n\u001b[0;32m      9\u001b[0m     \u001b[0mpath\u001b[0m\u001b[1;33m.\u001b[0m\u001b[0mappend\u001b[0m\u001b[1;33m(\u001b[0m\u001b[0mreverse\u001b[0m\u001b[1;33m[\u001b[0m\u001b[1;33m-\u001b[0m\u001b[0mi\u001b[0m\u001b[1;33m]\u001b[0m\u001b[1;33m)\u001b[0m\u001b[1;33m\u001b[0m\u001b[1;33m\u001b[0m\u001b[0m\n",
      "\u001b[1;31mKeyError\u001b[0m: None"
     ]
    }
   ],
   "source": [
    "elem = predecent[1]\n",
    "path = [1]\n",
    "reverse = []\n",
    "while elem != 1:\n",
    "    print(elem)\n",
    "    reverse.append(elem)\n",
    "    elem = predecent[elem]\n",
    "for i in range(len(reverse)):\n",
    "    path.append(reverse[-i])\n",
    "path.append(3)\n",
    "path"
   ]
  },
  {
   "cell_type": "code",
   "execution_count": 62,
   "metadata": {},
   "outputs": [],
   "source": [
    "def getShortestPathBF(graph,arcs,start,end):\n",
    "    \"\"\"_summary_\n",
    "    The function getShortestPath returns the cost of the the shortest path from two vertices and the shortest path. It uses the function BellmanFord\n",
    "    in order to get the list of every shortest path's cost and the list of precedents vertices involved.\n",
    "    Args:\n",
    "        graph (liste of int): each int represents a vertex\n",
    "        arcs (list of dict): each dict represents an arc. The format of arc is {\"start\": int s, \"end\": int e, \"cost\": int c} where s and e are vertices\n",
    "        and c is the weight of the arc\n",
    "        start (int): start is the vertex from which we want to determine the shortest path to every vertex\n",
    "        end (int): end is the vertex for which we want to compute the shortest path from start\n",
    "\n",
    "    Returns:\n",
    "        cost (int): cost is the cost of the shortest path from start to end\n",
    "        verticesPath (list of int): verticesPath is the list of vertices to follow in order to get to end from start, following the shortest path\n",
    "    \"\"\"\n",
    "    ##We call the function BellemanFord\n",
    "    d , predecent = BellmanFord(graph = graph,\n",
    "            arcs = arcs,\n",
    "            start=start)\n",
    "    ##We define the cost of the shortest path\n",
    "    cost = d[end]\n",
    "\n",
    "    ##We define the reverse shortest path. Hence, the graph is oriented but the function BellmanFord gives us a path strating from the end and finishing with\n",
    "    ##the start\n",
    "    verticesPathReverse = []\n",
    "    vertexTemp = end\n",
    "    while (vertexTemp != start):\n",
    "        verticesPathReverse.append(vertexTemp)\n",
    "        vertexTemp = predecent[vertexTemp]\n",
    "    verticesPath = []\n",
    "    for i in range(len(verticesPathReverse)):\n",
    "        verticesPath.append(verticesPathReverse[-i])\n",
    "    return [cost, verticesPathReverse]"
   ]
  },
  {
   "cell_type": "code",
   "execution_count": 98,
   "metadata": {},
   "outputs": [],
   "source": [
    "def getShortestPathsBF(graph,arcs,start):\n",
    "    \"\"\"_summary_\n",
    "    The function getShortestPath returns the cost of the the shortest path from two vertices and the shortest path. It uses the function BellmanFord\n",
    "    in order to get the list of every shortest path's cost and the list of precedents vertices involved.\n",
    "    Args:\n",
    "        graph (liste of int): each int represents a vertex\n",
    "        arcs (list of dict): each dict represents an arc. The format of arc is {\"start\": int s, \"end\": int e, \"cost\": int c} where s and e are vertices\n",
    "        and c is the weight of the arc\n",
    "        start (int): start is the vertex from which we want to determine the shortest path to every vertex\n",
    "        end (int): end is the vertex for which we want to compute the shortest path from start\n",
    "\n",
    "    Returns:\n",
    "        cost (int): cost is the cost of the shortest path from start to end\n",
    "        verticesPath (list of int): verticesPath is the list of vertices to follow in order to get to end from start, following the shortest path\n",
    "    \"\"\"\n",
    "    ##We call the function BellemanFord\n",
    "    d , predecent = BellmanFord(graph = graph,\n",
    "            arcs = arcs,\n",
    "            start=start)\n",
    "\n",
    "    ##We define the reverse shortest path. Hence, the graph is oriented but the function BellmanFord gives us a path strating from the end and finishing with\n",
    "    ##the start\n",
    "    paths = {}\n",
    "    for vertex in graph:\n",
    "        if (vertex != start):\n",
    "            elem = predecent[vertex]\n",
    "            path = [start]\n",
    "            reverse = []\n",
    "            while elem != start:\n",
    "                reverse.append(elem)\n",
    "                elem = predecent[elem]\n",
    "            for i in range(len(reverse)):\n",
    "                path.append(reverse[-i])\n",
    "            path.append(vertex)\n",
    "            paths[vertex] = path\n",
    "        else:\n",
    "            paths[start] = [start]\n",
    "    return paths"
   ]
  },
  {
   "cell_type": "code",
   "execution_count": 94,
   "metadata": {},
   "outputs": [
    {
     "data": {
      "text/plain": [
       "[59, [3, 59, 63, 52]]"
      ]
     },
     "execution_count": 94,
     "metadata": {},
     "output_type": "execute_result"
    }
   ],
   "source": [
    "getShortestPathBF(graph=vertices,\n",
    "                arcs=arcs,\n",
    "                start=1,\n",
    "                end=3)"
   ]
  },
  {
   "cell_type": "code",
   "execution_count": 99,
   "metadata": {},
   "outputs": [],
   "source": [
    "paths = getShortestPathsBF(vertices, arcs, 2)"
   ]
  },
  {
   "cell_type": "code",
   "execution_count": 100,
   "metadata": {
    "scrolled": true
   },
   "outputs": [
    {
     "data": {
      "text/plain": [
       "{1: [2, 80, 1],\n",
       " 2: [2],\n",
       " 3: [2, 100, 3],\n",
       " 4: [2, 91, 100, 4],\n",
       " 5: [2, 9, 100, 5],\n",
       " 6: [2, 60, 6],\n",
       " 7: [2, 95, 7],\n",
       " 8: [2, 20, 8],\n",
       " 9: [2, 100, 9],\n",
       " 10: [2, 62, 95, 10],\n",
       " 11: [2, 74, 95, 11],\n",
       " 12: [2, 89, 60, 12],\n",
       " 13: [2, 11, 95, 74, 13],\n",
       " 14: [2, 91, 100, 14],\n",
       " 15: [2, 15],\n",
       " 16: [2, 20, 16],\n",
       " 17: [2, 68, 20, 29, 17],\n",
       " 18: [2, 9, 100, 18],\n",
       " 19: [2, 27, 95, 19],\n",
       " 20: [2, 20],\n",
       " 21: [2, 66, 20, 21],\n",
       " 22: [2, 88, 100, 22],\n",
       " 23: [2, 41, 80, 23],\n",
       " 24: [2, 37, 24],\n",
       " 25: [2, 87, 20, 29, 25],\n",
       " 26: [2, 26],\n",
       " 27: [2, 95, 27],\n",
       " 28: [2, 21, 20, 66, 28],\n",
       " 29: [2, 20, 29],\n",
       " 30: [2, 88, 100, 30],\n",
       " 31: [2, 6, 60, 31],\n",
       " 32: [2, 38, 20, 32],\n",
       " 33: [2, 36, 100, 91, 33],\n",
       " 34: [2, 74, 95, 34],\n",
       " 35: [2, 38, 20, 35],\n",
       " 36: [2, 91, 100, 36],\n",
       " 37: [2, 37],\n",
       " 38: [2, 20, 38],\n",
       " 39: [2, 62, 95, 39],\n",
       " 40: [2, 60, 40],\n",
       " 41: [2, 80, 41],\n",
       " 42: [2, 20, 42],\n",
       " 43: [2, 35, 20, 38, 43],\n",
       " 44: [2, 80, 44],\n",
       " 45: [2, 41, 80, 45],\n",
       " 46: [2, 4, 100, 91, 46],\n",
       " 47: [2, 91, 100, 47],\n",
       " 48: [2, 78, 26, 48],\n",
       " 49: [2, 88, 100, 49],\n",
       " 50: [2, 83, 60, 94, 50],\n",
       " 51: [2, 64, 100, 51],\n",
       " 52: [2, 7, 95, 52],\n",
       " 53: [2, 11, 95, 74, 53],\n",
       " 54: [2, 11, 95, 74, 54],\n",
       " 55: [2, 8, 20, 55],\n",
       " 56: [2, 3, 100, 56],\n",
       " 57: [2, 24, 37, 57],\n",
       " 58: [2, 58],\n",
       " 59: [2, 1, 80, 59],\n",
       " 60: [2, 60],\n",
       " 61: [2, 100, 61],\n",
       " 62: [2, 95, 62],\n",
       " 63: [2, 95, 63],\n",
       " 64: [2, 100, 64],\n",
       " 65: [2, 81, 20, 29, 65],\n",
       " 66: [2, 20, 66],\n",
       " 67: [2, 95, 67],\n",
       " 68: [2, 29, 20, 68],\n",
       " 69: [2, 36, 100, 91, 69],\n",
       " 70: [2, 88, 100, 70],\n",
       " 71: [2, 31, 60, 6, 71],\n",
       " 72: [2, 68, 20, 29, 72],\n",
       " 73: [2, 82, 95, 73],\n",
       " 74: [2, 95, 74],\n",
       " 75: [2, 88, 100, 75],\n",
       " 76: [2, 76],\n",
       " 77: [2, 100, 77],\n",
       " 78: [2, 26, 78],\n",
       " 79: [2, 100, 79],\n",
       " 80: [2, 80],\n",
       " 81: [2, 29, 20, 81],\n",
       " 82: [2, 95, 82],\n",
       " 83: [2, 94, 60, 83],\n",
       " 84: [2, 16, 20, 84],\n",
       " 85: [2, 14, 100, 91, 85],\n",
       " 86: [2, 99, 20, 29, 86],\n",
       " 87: [2, 29, 20, 87],\n",
       " 88: [2, 100, 88],\n",
       " 89: [2, 60, 89],\n",
       " 90: [2, 90],\n",
       " 91: [2, 100, 91],\n",
       " 92: [2, 32, 20, 38, 92],\n",
       " 93: [2, 82, 95, 93],\n",
       " 94: [2, 60, 94],\n",
       " 95: [2, 95],\n",
       " 96: [2, 91, 100, 96],\n",
       " 97: [2, 88, 100, 97],\n",
       " 98: [2, 4, 100, 91, 98],\n",
       " 99: [2, 29, 20, 99],\n",
       " 100: [2, 100]}"
      ]
     },
     "execution_count": 100,
     "metadata": {},
     "output_type": "execute_result"
    }
   ],
   "source": [
    "paths"
   ]
  },
  {
   "cell_type": "markdown",
   "metadata": {},
   "source": [
    "## Djikstra Algorithm"
   ]
  },
  {
   "cell_type": "code",
   "execution_count": 9,
   "metadata": {},
   "outputs": [],
   "source": [
    "def findingMin(Q,distances):\n",
    "    \"\"\"The function findingMin return the vertex in Q for which distances[vertex] = min(distances)\n",
    "\n",
    "    Args:\n",
    "        Q (liste of int): list of vertex\n",
    "        distances (list of int): list of distance\n",
    "\n",
    "    Returns:\n",
    "        int: vertex for which the distance is minimal\n",
    "    \"\"\"\n",
    "    mini = np.inf\n",
    "    vertexMini = -1\n",
    "    for vertex in Q:\n",
    "        if (distances[vertex] < mini):\n",
    "            mini = distances[vertex]\n",
    "            vertexMini = vertex\n",
    "    return vertexMini "
   ]
  },
  {
   "cell_type": "code",
   "execution_count": 15,
   "metadata": {},
   "outputs": [],
   "source": [
    "def Dijkstra(graph, arcs, start):\n",
    "    \"\"\"_summary_\n",
    "    The Dijkstra function implements the Dijkstra's algorithm.\n",
    "    Args:\n",
    "        graph (liste of int): each int represents a vertex\n",
    "        arcs (list of dict): each dict represents an arc. The format of arc is {\"start\": int s, \"end\": int e, \"cost\": int c} where s and e are vertices\n",
    "        and c is the weight of the arc\n",
    "        start (int): start is the vertex from which we want to determine the shortest path to every vertex\n",
    "\n",
    "    Returns:\n",
    "        distances: a dict of cost. distances[u] is the cost of the shortest path from strat to u\n",
    "        pred: a dict of vertex. One has to follow the successives vertex starting with pred[u] then pred[pred[u]] etc.. to get the shortest path\n",
    "        from strat to u\n",
    "    \"\"\"\n",
    "    distances = {}\n",
    "    pred = {}\n",
    "    for vertex in graph:\n",
    "        distances[vertex] = np.inf\n",
    "        pred[vertex] = None\n",
    "    distances[start] = 0\n",
    "    Q = graph.copy()\n",
    "    while (len(Q) != 0):\n",
    "        vertex1 = findingMin(Q, distances)\n",
    "        Q.remove(vertex1)\n",
    "        for arc in arcs:\n",
    "            if (arc[\"start\"] == vertex1):\n",
    "                vertex2 = arc[\"end\"]\n",
    "                cost = arc[\"cost\"]\n",
    "                if (distances[vertex2] > distances[vertex1] + cost):\n",
    "                    \n",
    "                    distances[vertex2] = distances[vertex1] + cost\n",
    "                    pred[vertex2] = vertex1\n",
    "    return [distances, pred]\n",
    "    "
   ]
  },
  {
   "cell_type": "code",
   "execution_count": 16,
   "metadata": {},
   "outputs": [],
   "source": [
    "d, precedent = Dijkstra(graph=vertices,\n",
    "                        arcs=arcs,\n",
    "                        start=1)"
   ]
  },
  {
   "cell_type": "code",
   "execution_count": 110,
   "metadata": {},
   "outputs": [],
   "source": [
    "def getShortestPathD(graph, arcs, start,end):\n",
    "    \"\"\"_summary_\n",
    "    The function getShortestPath returns the cost of the the shortest path from two vertices and the shortest path. It uses the function Dijkstra\n",
    "    in order to get the list of every shortest path's cost and the list of precedents vertices involved.\n",
    "    Args:\n",
    "        graph (liste of int): each int represents a vertex\n",
    "        arcs (list of dict): each dict represents an arc. The format of arc is {\"start\": int s, \"end\": int e, \"cost\": int c} where s and e are vertices\n",
    "        and c is the weight of the arc\n",
    "        start (int): start is the vertex from which we want to determine the shortest path to every vertex\n",
    "        end (int): end is the vertex for which we want to compute the shortest path from start\n",
    "\n",
    "    Returns:\n",
    "        cost (int): cost is the cost of the shortest path from start to end\n",
    "        verticesPath (list of int): verticesPath is the list of vertices to follow in order to get to end from start, following the shortest path\n",
    "    \"\"\"\n",
    "    ## We call the function Dijkstra\n",
    "    d , predecent = Dijkstra(graph = graph,\n",
    "                            arcs = arcs,\n",
    "                            start=start)\n",
    "    ## We define the cost of the shortest path\n",
    "    cost = d[end]\n",
    "\n",
    "    ## We define the reverse shortest path. Hence, the graph is oriented but the function Dijkstra gives us a path strating from the end \n",
    "    ## and finishing with the start\n",
    "    elem = predecent[end]\n",
    "    path = [start]\n",
    "    reverse = []\n",
    "    while elem != start:\n",
    "        reverse.append(elem)\n",
    "        elem = predecent[elem]\n",
    "    for i in range(len(reverse)):\n",
    "        path.append(reverse[-i])\n",
    "    path.append(end)\n",
    "    return [cost, path]"
   ]
  },
  {
   "cell_type": "code",
   "execution_count": 111,
   "metadata": {},
   "outputs": [
    {
     "data": {
      "text/plain": [
       "[59, [1, 52, 59, 63, 3]]"
      ]
     },
     "execution_count": 111,
     "metadata": {},
     "output_type": "execute_result"
    }
   ],
   "source": [
    "getShortestPathD(graph=vertices,\n",
    "                        arcs=arcs,\n",
    "                        start=1,\n",
    "                         end = 3)"
   ]
  },
  {
   "cell_type": "code",
   "execution_count": 101,
   "metadata": {},
   "outputs": [],
   "source": [
    "def getShortestPathsD(graph, arcs, start):\n",
    "    \"\"\"_summary_\n",
    "    \"\"\"\n",
    "    ## We call the function Dijkstra\n",
    "    d , predecent = Dijkstra(graph = graph,\n",
    "                            arcs = arcs,\n",
    "                            start=start)\n",
    "    ## We define the cost of the shortest path\n",
    "    \n",
    "\n",
    "    ## We define the reverse shortest path. Hence, the graph is oriented but the function Dijkstra gives us a path strating from the end \n",
    "    ## and finishing with the start\n",
    "    paths = {}\n",
    "    for vertex in graph:\n",
    "        if (vertex != start):\n",
    "            elem = predecent[vertex]\n",
    "            path = [start]\n",
    "            reverse = []\n",
    "            while elem != start:\n",
    "                reverse.append(elem)\n",
    "                elem = predecent[elem]\n",
    "            for i in range(len(reverse)):\n",
    "                path.append(reverse[-i])\n",
    "            path.append(vertex)\n",
    "            paths[vertex] = path\n",
    "        else:\n",
    "            paths[start] = [start]\n",
    "    return paths"
   ]
  },
  {
   "cell_type": "code",
   "execution_count": 102,
   "metadata": {},
   "outputs": [],
   "source": [
    "test = getShortestPathsD(graph=vertices,\n",
    "                        arcs=arcs,\n",
    "                        start=1)"
   ]
  },
  {
   "cell_type": "code",
   "execution_count": 103,
   "metadata": {},
   "outputs": [
    {
     "data": {
      "text/plain": [
       "[1, 59, 2]"
      ]
     },
     "execution_count": 103,
     "metadata": {},
     "output_type": "execute_result"
    }
   ],
   "source": []
  },
  {
   "cell_type": "markdown",
   "metadata": {},
   "source": [
    "## Constrained shortest path problem"
   ]
  },
  {
   "cell_type": "code",
   "execution_count": 106,
   "metadata": {},
   "outputs": [],
   "source": [
    "dictArc = {}\n",
    "maxCost = 0\n",
    "for vertex in vertices:\n",
    "    tmp = []\n",
    "    for line in lines:\n",
    "        try:\n",
    "            if (line != lines[0] and int(re.split(\" \",line)[1]) == vertex):\n",
    "                arc = {}\n",
    "                ligne = re.split(\" \",line)\n",
    "                arc[\"start\"] = int(ligne[1])\n",
    "                arc[\"end\"] = int(ligne[2])\n",
    "                arc[\"cost\"] = int(ligne[3])\n",
    "                arc[\"resource\"] = int(ligne[4]) / resourceMax\n",
    "                if (arc[\"cost\"] > maxCost):\n",
    "                    maxCost = arc[\"cost\"]\n",
    "                tmp.append(arc)\n",
    "        except:\n",
    "            pass\n",
    "    dictArc[vertex] = tmp\n",
    "for vertex in vertices:\n",
    "    for dico in dictArc[vertex]:\n",
    "        dico[\"cost\"] = dico[\"cost\"] / maxCost"
   ]
  },
  {
   "cell_type": "code",
   "execution_count": 140,
   "metadata": {
    "scrolled": true
   },
   "outputs": [
    {
     "data": {
      "text/plain": [
       "[{'start': 59,\n",
       "  'end': 2,\n",
       "  'cost': 0.4396551724137931,\n",
       "  'resource': 0.1643835616438356},\n",
       " {'start': 59,\n",
       "  'end': 8,\n",
       "  'cost': 0.3275862068965517,\n",
       "  'resource': 0.0273972602739726},\n",
       " {'start': 59,\n",
       "  'end': 24,\n",
       "  'cost': 0.5689655172413793,\n",
       "  'resource': 0.0958904109589041},\n",
       " {'start': 59,\n",
       "  'end': 36,\n",
       "  'cost': 0.4051724137931034,\n",
       "  'resource': 0.2602739726027397},\n",
       " {'start': 59,\n",
       "  'end': 44,\n",
       "  'cost': 0.3103448275862069,\n",
       "  'resource': 0.0547945205479452},\n",
       " {'start': 59,\n",
       "  'end': 49,\n",
       "  'cost': 0.39655172413793105,\n",
       "  'resource': 0.1506849315068493},\n",
       " {'start': 59,\n",
       "  'end': 63,\n",
       "  'cost': 0.21551724137931033,\n",
       "  'resource': 0.0547945205479452},\n",
       " {'start': 59,\n",
       "  'end': 78,\n",
       "  'cost': 0.7155172413793104,\n",
       "  'resource': 0.0821917808219178},\n",
       " {'start': 59,\n",
       "  'end': 89,\n",
       "  'cost': 0.29310344827586204,\n",
       "  'resource': 0.2876712328767123}]"
      ]
     },
     "execution_count": 140,
     "metadata": {},
     "output_type": "execute_result"
    }
   ],
   "source": [
    "dictArc[59]"
   ]
  },
  {
   "cell_type": "code",
   "execution_count": 149,
   "metadata": {},
   "outputs": [],
   "source": [
    "def proposition(path, dictArc, graph, arcs):\n",
    "    nodeDifIndex = np.random.randint(1,len(path)-1)\n",
    "    nodeDif = path[nodeDifIndex]\n",
    "    print(nodeDif)\n",
    "    end = path[-1]\n",
    "    newArcIndex = np.random.randint(1,len(dictArc[nodeDif]))\n",
    "    newNode = dictArc[nodeDif][newArcIndex][\"end\"]\n",
    "    print(dictArc[nodeDif][newArcIndex])\n",
    "    newPath = path[0: nodeDifIndex + 1 ]\n",
    "    newPath = newPath + getShortestPathD(graph, arcs, newNode, end)[1]\n",
    "    return newPath"
   ]
  },
  {
   "cell_type": "code",
   "execution_count": 150,
   "metadata": {},
   "outputs": [
    {
     "name": "stdout",
     "output_type": "stream",
     "text": [
      "59\n",
      "{'start': 59, 'end': 89, 'cost': 0.29310344827586204, 'resource': 0.2876712328767123}\n"
     ]
    },
    {
     "data": {
      "text/plain": [
       "[1, 59, 89, 32, 12, 2]"
      ]
     },
     "execution_count": 150,
     "metadata": {},
     "output_type": "execute_result"
    }
   ],
   "source": [
    "proposition([1, 59, 2], dictArc, vertices, arcs)"
   ]
  },
  {
   "cell_type": "code",
   "execution_count": null,
   "metadata": {},
   "outputs": [],
   "source": [
    "def recuit(N, start, end, T)"
   ]
  }
 ],
 "metadata": {
  "interpreter": {
   "hash": "4e45a42a02399ef7d405ae537aa782b13f90516b24d23472bed56c0be54a5ad5"
  },
  "kernelspec": {
   "display_name": "Python 3 (ipykernel)",
   "language": "python",
   "name": "python3"
  },
  "language_info": {
   "codemirror_mode": {
    "name": "ipython",
    "version": 3
   },
   "file_extension": ".py",
   "mimetype": "text/x-python",
   "name": "python",
   "nbconvert_exporter": "python",
   "pygments_lexer": "ipython3",
   "version": "3.9.7"
  }
 },
 "nbformat": 4,
 "nbformat_minor": 2
}
