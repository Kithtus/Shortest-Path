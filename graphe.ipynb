{
 "cells": [
  {
   "cell_type": "code",
   "execution_count": 2,
   "metadata": {},
   "outputs": [],
   "source": [
    "import os\n",
    "import re\n",
    "import numpy as np"
   ]
  },
  {
   "cell_type": "markdown",
   "metadata": {},
   "source": [
    "## Creation of the graph"
   ]
  },
  {
   "cell_type": "markdown",
   "metadata": {},
   "source": [
    "### Creation of the arcs"
   ]
  },
  {
   "cell_type": "code",
   "execution_count": 3,
   "metadata": {},
   "outputs": [],
   "source": [
    "lines = []\n",
    "txt = open(\"rcsp1.txt\",\"r\")\n",
    "line = txt.readline() \n",
    "while (line != \"\"):\n",
    "    lines.append(line)\n",
    "    line = txt.readline()\n"
   ]
  },
  {
   "cell_type": "code",
   "execution_count": 4,
   "metadata": {},
   "outputs": [],
   "source": [
    "arcs = []\n",
    "for line in lines:\n",
    "    try:\n",
    "        if (line != lines[0]):\n",
    "            arc = {}\n",
    "            ligne = re.split(\" \",line)\n",
    "            arc[\"start\"] = int(ligne[1])\n",
    "            arc[\"end\"] = int(ligne[2])\n",
    "            arc[\"cost\"] = int(ligne[3])\n",
    "            arcs.append(arc)\n",
    "    except:\n",
    "        pass"
   ]
  },
  {
   "cell_type": "markdown",
   "metadata": {},
   "source": [
    "### Creation of the graph with a list, in which each element is a vertex"
   ]
  },
  {
   "cell_type": "code",
   "execution_count": 25,
   "metadata": {},
   "outputs": [],
   "source": [
    "vertexNumber = re.split(\" \",lines[0])[1]\n",
    "vertices = [0] * int(vertexNumber)\n",
    "for vertex in range(1, int(vertexNumber)+1):\n",
    "    vertices[vertex-1] = vertex"
   ]
  },
  {
   "cell_type": "markdown",
   "metadata": {},
   "source": [
    "## Bellman-Ford Algorithm"
   ]
  },
  {
   "cell_type": "code",
   "execution_count": 6,
   "metadata": {},
   "outputs": [],
   "source": [
    "def BellmanFord(graph, arcs, start):\n",
    "    \"\"\"_summary_\n",
    "    The function BellmanFord implements the Bellman-Ford's algorithm.\n",
    "    Args:\n",
    "        graph (liste of int): each int represents a vertex\n",
    "        arcs (list of dict): each dict represents an arc. The format of arc is {\"start\": int s, \"end\": int e, \"cost\": int c} where s and e are vertices\n",
    "        and c is the weight of the arc\n",
    "        start (int): start is the vertex from which we want to determine the shortest path to every vertex\n",
    "\n",
    "    Returns:\n",
    "        distances: a dict of cost. distances[u] is the cost of the shortest path from strat to u\n",
    "        pred: a dict of vertex. One has to follow the successives vertex starting with pred[u] then pred[pred[u]] etc.. to get the shortest path\n",
    "        from strat to u\n",
    "    \"\"\"\n",
    "    numberVertex = len(graph)\n",
    "    distances = {}\n",
    "    pred = {}\n",
    "    ##We define the distances to infinity for strating and predecent vertex to None\n",
    "    for vertex in graph:\n",
    "        distances[vertex] = np.inf\n",
    "        pred[vertex] = None\n",
    "    distances[start] = 0\n",
    "    ##We increase the range of our search and we update the distances and the predecent vertex\n",
    "    for k in range(numberVertex):\n",
    "        for arc in arcs:\n",
    "            u = arc[\"start\"]\n",
    "            v = arc[\"end\"]\n",
    "            cost = arc[\"cost\"]\n",
    "            if (distances[v] > distances[u] + cost):\n",
    "                distances[v] = distances[u] + cost\n",
    "                pred[v] = u\n",
    "    return [distances, pred]"
   ]
  },
  {
   "cell_type": "code",
   "execution_count": 7,
   "metadata": {},
   "outputs": [],
   "source": [
    "d , predecent = BellmanFord(graph = vertices,\n",
    "            arcs = arcs,\n",
    "            start=2)"
   ]
  },
  {
   "cell_type": "code",
   "execution_count": 37,
   "metadata": {},
   "outputs": [],
   "source": [
    "def getShortestPathBF(graph,arcs,start,end):\n",
    "    \"\"\"_summary_\n",
    "    The function getShortestPath returns the cost of the the shortest path from two vertices and the shortest path. It uses the function BellmanFord\n",
    "    in order to get the list of every shortest path's cost and the list of precedents vertices involved.\n",
    "    Args:\n",
    "        graph (liste of int): each int represents a vertex\n",
    "        arcs (list of dict): each dict represents an arc. The format of arc is {\"start\": int s, \"end\": int e, \"cost\": int c} where s and e are vertices\n",
    "        and c is the weight of the arc\n",
    "        start (int): start is the vertex from which we want to determine the shortest path to every vertex\n",
    "        end (int): end is the vertex for which we want to compute the shortest path from start\n",
    "\n",
    "    Returns:\n",
    "        cost (int): cost is the cost of the shortest path from start to end\n",
    "        verticesPath (list of int): verticesPath is the list of vertices to follow in order to get to end from start, following the shortest path\n",
    "    \"\"\"\n",
    "    ##We call the function BellemanFord\n",
    "    d , predecent = BellmanFord(graph = graph,\n",
    "            arcs = arcs,\n",
    "            start=start)\n",
    "    ##We define the cost of the shortest path\n",
    "    cost = d[end]\n",
    "\n",
    "    ##We define the reverse shortest path. Hence, the graph is oriented but the function BellmanFord gives us a path strating from the end and finishing with\n",
    "    ##the start\n",
    "    verticesPathReverse = []\n",
    "    vertexTemp = end\n",
    "    while (vertexTemp != start):\n",
    "        verticesPathReverse.append(vertexTemp)\n",
    "        vertexTemp = predecent[vertexTemp]\n",
    "    verticesPath = []\n",
    "    for i in range(len(verticesPathReverse)):\n",
    "        verticesPath.append(verticesPathReverse[-i])\n",
    "    return [cost, verticesPath]"
   ]
  },
  {
   "cell_type": "code",
   "execution_count": 33,
   "metadata": {},
   "outputs": [
    {
     "data": {
      "text/plain": [
       "[60, [2, 59]]"
      ]
     },
     "execution_count": 33,
     "metadata": {},
     "output_type": "execute_result"
    }
   ],
   "source": [
    "getShortestPathBF(graph=vertices,\n",
    "                arcs=arcs,\n",
    "                start=1,\n",
    "                end=2)"
   ]
  },
  {
   "cell_type": "markdown",
   "metadata": {},
   "source": [
    "## Djikstra Algorithm"
   ]
  },
  {
   "cell_type": "code",
   "execution_count": 11,
   "metadata": {},
   "outputs": [],
   "source": [
    "def findingMin(Q,distances):\n",
    "    \"\"\"The function findingMin return the vertex in Q for which distances[vertex] = min(distances)\n",
    "\n",
    "    Args:\n",
    "        Q (liste of int): list of vertex\n",
    "        distances (list of int): list of distance\n",
    "\n",
    "    Returns:\n",
    "        int: vertex for which the distance is minimal\n",
    "    \"\"\"\n",
    "    mini = np.inf\n",
    "    vertexMini = -1\n",
    "    for vertex in Q:\n",
    "        if (distances[vertex] < mini):\n",
    "            mini = distances[vertex]\n",
    "            vertexMini = vertex\n",
    "    return vertexMini "
   ]
  },
  {
   "cell_type": "code",
   "execution_count": 34,
   "metadata": {},
   "outputs": [],
   "source": [
    "def Dijkstra(graph, arcs, start):\n",
    "    \"\"\"_summary_\n",
    "    The Dijkstra function implements the Dijkstra's algorithm.\n",
    "    Args:\n",
    "        graph (liste of int): each int represents a vertex\n",
    "        arcs (list of dict): each dict represents an arc. The format of arc is {\"start\": int s, \"end\": int e, \"cost\": int c} where s and e are vertices\n",
    "        and c is the weight of the arc\n",
    "        start (int): start is the vertex from which we want to determine the shortest path to every vertex\n",
    "\n",
    "    Returns:\n",
    "        distances: a dict of cost. distances[u] is the cost of the shortest path from strat to u\n",
    "        pred: a dict of vertex. One has to follow the successives vertex starting with pred[u] then pred[pred[u]] etc.. to get the shortest path\n",
    "        from strat to u\n",
    "    \"\"\"\n",
    "    distances = {}\n",
    "    pred = {}\n",
    "    for vertex in graph:\n",
    "        distances[vertex] = np.inf\n",
    "        pred[vertex] = None\n",
    "    distances[start] = 0\n",
    "    Q = graph.copy()\n",
    "    while (len(Q) != 0):\n",
    "        vertex1 = findingMin(Q, distances)\n",
    "        Q.remove(vertex1)\n",
    "        for arc in arcs:\n",
    "            if (arc[\"start\"] == vertex1):\n",
    "                vertex2 = arc[\"end\"]\n",
    "                cost = arc[\"cost\"]\n",
    "                if (distances[vertex2] > distances[vertex1] + cost):\n",
    "                    \n",
    "                    distances[vertex2] = distances[vertex1] + cost\n",
    "                    pred[vertex2] = vertex1\n",
    "    return [distances, pred]\n",
    "    "
   ]
  },
  {
   "cell_type": "code",
   "execution_count": 35,
   "metadata": {},
   "outputs": [],
   "source": [
    "d, precedent = Dijkstra(graph=vertices,\n",
    "                        arcs=arcs,\n",
    "                        start=1)"
   ]
  },
  {
   "cell_type": "code",
   "execution_count": 36,
   "metadata": {},
   "outputs": [],
   "source": [
    "def getShortestPathD(graph, arcs, start,end):\n",
    "    \"\"\"_summary_\n",
    "    The function getShortestPath returns the cost of the the shortest path from two vertices and the shortest path. It uses the function Dijkstra\n",
    "    in order to get the list of every shortest path's cost and the list of precedents vertices involved.\n",
    "    Args:\n",
    "        graph (liste of int): each int represents a vertex\n",
    "        arcs (list of dict): each dict represents an arc. The format of arc is {\"start\": int s, \"end\": int e, \"cost\": int c} where s and e are vertices\n",
    "        and c is the weight of the arc\n",
    "        start (int): start is the vertex from which we want to determine the shortest path to every vertex\n",
    "        end (int): end is the vertex for which we want to compute the shortest path from start\n",
    "\n",
    "    Returns:\n",
    "        cost (int): cost is the cost of the shortest path from start to end\n",
    "        verticesPath (list of int): verticesPath is the list of vertices to follow in order to get to end from start, following the shortest path\n",
    "    \"\"\"\n",
    "    ## We call the function Dijkstra\n",
    "    d , predecent = Dijkstra(graph = graph,\n",
    "                            arcs = arcs,\n",
    "                            start=start)\n",
    "    ## We define the cost of the shortest path\n",
    "    cost = d[end]\n",
    "\n",
    "    ## We define the reverse shortest path. Hence, the graph is oriented but the function Dijkstra gives us a path strating from the end \n",
    "    ## and finishing with the start\n",
    "    verticesPathReverse = []\n",
    "    vertexTemp = end\n",
    "    while (vertexTemp != start):\n",
    "        verticesPathReverse.append(vertexTemp)\n",
    "        vertexTemp = predecent[vertexTemp]\n",
    "    verticesPath = []\n",
    "    for i in range(len(verticesPathReverse)):\n",
    "        verticesPath.append(verticesPathReverse[-i])\n",
    "    return [cost, verticesPath]"
   ]
  },
  {
   "cell_type": "code",
   "execution_count": null,
   "metadata": {},
   "outputs": [],
   "source": []
  }
 ],
 "metadata": {
  "interpreter": {
   "hash": "4e45a42a02399ef7d405ae537aa782b13f90516b24d23472bed56c0be54a5ad5"
  },
  "kernelspec": {
   "display_name": "Python 3.9.7 ('base')",
   "language": "python",
   "name": "python3"
  },
  "language_info": {
   "codemirror_mode": {
    "name": "ipython",
    "version": 3
   },
   "file_extension": ".py",
   "mimetype": "text/x-python",
   "name": "python",
   "nbconvert_exporter": "python",
   "pygments_lexer": "ipython3",
   "version": "3.9.7"
  },
  "orig_nbformat": 4
 },
 "nbformat": 4,
 "nbformat_minor": 2
}
